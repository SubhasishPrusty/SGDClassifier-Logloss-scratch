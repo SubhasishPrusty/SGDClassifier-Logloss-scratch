{
 "cells": [
  {
   "cell_type": "code",
   "execution_count": 1,
   "metadata": {
    "colab": {},
    "colab_type": "code",
    "collapsed": true,
    "id": "I2S-uFqwSvmg"
   },
   "outputs": [],
   "source": [
    "import numpy as np\n",
    "import pandas as pd\n",
    "from sklearn.datasets import make_classification"
   ]
  },
  {
   "cell_type": "markdown",
   "metadata": {},
   "source": [
    "**Goal**: Compare Loss and weight of SGDClassifier with log loss and our model using numpy"
   ]
  },
  {
   "cell_type": "markdown",
   "metadata": {
    "collapsed": true
   },
   "source": [
    "So first we create a dataset with binary classification. Then we use it on SGDClassifier and print the loss after epoch and then the final weight vector and bias."
   ]
  },
  {
   "cell_type": "markdown",
   "metadata": {},
   "source": [
    "## Dataset"
   ]
  },
  {
   "cell_type": "code",
   "execution_count": 2,
   "metadata": {
    "colab": {},
    "colab_type": "code",
    "collapsed": true,
    "id": "FUxLkBjISvmr"
   },
   "outputs": [],
   "source": [
    "X, y = make_classification(n_samples=50000, n_features=15, n_informative=10, n_redundant=5,\n",
    "                           n_classes=2, weights=[0.7], class_sep=0.7, random_state=15)"
   ]
  },
  {
   "cell_type": "code",
   "execution_count": 3,
   "metadata": {
    "colab": {
     "base_uri": "https://localhost:8080/",
     "height": 34
    },
    "colab_type": "code",
    "id": "xexp5GYNSvmz",
    "outputId": "07eea558-f9c2-4457-8a71-a60a48228677"
   },
   "outputs": [
    {
     "data": {
      "text/plain": [
       "((50000, 15), (50000,))"
      ]
     },
     "execution_count": 3,
     "metadata": {},
     "output_type": "execute_result"
    }
   ],
   "source": [
    "X.shape, y.shape"
   ]
  },
  {
   "cell_type": "markdown",
   "metadata": {
    "colab_type": "text",
    "id": "54vJVc_KSvm9"
   },
   "source": [
    " "
   ]
  },
  {
   "cell_type": "code",
   "execution_count": 4,
   "metadata": {
    "colab": {},
    "colab_type": "code",
    "collapsed": true,
    "id": "9pKAn1-ASvm_"
   },
   "outputs": [],
   "source": [
    "from sklearn.model_selection import train_test_split"
   ]
  },
  {
   "cell_type": "code",
   "execution_count": 5,
   "metadata": {
    "colab": {},
    "colab_type": "code",
    "collapsed": true,
    "id": "r97pFTgrSvnE"
   },
   "outputs": [],
   "source": [
    "X_train, X_test, y_train, y_test = train_test_split(X, y, test_size=0.25, random_state=15)"
   ]
  },
  {
   "cell_type": "code",
   "execution_count": 6,
   "metadata": {
    "colab": {
     "base_uri": "https://localhost:8080/",
     "height": 34
    },
    "colab_type": "code",
    "id": "jykLIXZNSvnJ",
    "outputId": "a190deab-5605-4786-b4f6-a59c9300ff77"
   },
   "outputs": [
    {
     "data": {
      "text/plain": [
       "((37500, 15), (37500,), (12500, 15), (12500,))"
      ]
     },
     "execution_count": 6,
     "metadata": {},
     "output_type": "execute_result"
    }
   ],
   "source": [
    "X_train.shape, y_train.shape, X_test.shape, y_test.shape"
   ]
  },
  {
   "cell_type": "markdown",
   "metadata": {
    "colab_type": "text",
    "id": "g0-M6oXASvnO"
   },
   "source": [
    " ## SGDClassifier with Log Loss"
   ]
  },
  {
   "cell_type": "code",
   "execution_count": 7,
   "metadata": {
    "colab": {},
    "colab_type": "code",
    "collapsed": true,
    "id": "sShoMeocSvnP"
   },
   "outputs": [],
   "source": [
    "from sklearn import linear_model"
   ]
  },
  {
   "cell_type": "code",
   "execution_count": 8,
   "metadata": {
    "colab": {
     "base_uri": "https://localhost:8080/",
     "height": 119
    },
    "colab_type": "code",
    "id": "gm6wi8L2SvnU",
    "outputId": "be306b64-dadd-4efd-ef20-619b5f7d3c58"
   },
   "outputs": [
    {
     "data": {
      "text/plain": [
       "SGDClassifier(alpha=0.0001, average=False, class_weight=None, epsilon=0.1,\n",
       "       eta0=0.0001, fit_intercept=True, l1_ratio=0.15,\n",
       "       learning_rate='constant', loss='log', max_iter=None, n_iter=None,\n",
       "       n_jobs=1, penalty='l2', power_t=0.5, random_state=15, shuffle=True,\n",
       "       tol=0.001, verbose=2, warm_start=False)"
      ]
     },
     "execution_count": 8,
     "metadata": {},
     "output_type": "execute_result"
    }
   ],
   "source": [
    "# alpha : float  lambda\n",
    "# Constant that multiplies the regularization term. \n",
    "\n",
    "# eta0 : double\n",
    "# The initial learning rate for the ‘constant’, ‘invscaling’ or ‘adaptive’ schedules.\n",
    "\n",
    "clf = linear_model.SGDClassifier(eta0=0.0001, alpha=0.0001, loss='log', random_state=15, penalty='l2', tol=1e-3, verbose=2, learning_rate='constant')\n",
    "clf"
   ]
  },
  {
   "cell_type": "markdown",
   "metadata": {},
   "source": [
    "The learning rate (eta0) = 0.0001\n",
    "lamda/alpha = 0.0001\n",
    "\n",
    "The learning rate is also kept constant i.e. it wont change with each time the weight are optimized."
   ]
  },
  {
   "cell_type": "code",
   "execution_count": 9,
   "metadata": {
    "colab": {
     "base_uri": "https://localhost:8080/",
     "height": 646
    },
    "colab_type": "code",
    "id": "Q4WFoxgASvnc",
    "outputId": "56d8a216-b3f2-415e-d57e-5a8b00c96ffc"
   },
   "outputs": [
    {
     "name": "stdout",
     "output_type": "stream",
     "text": [
      "-- Epoch 1\n",
      "Norm: 0.76, NNZs: 15, Bias: -0.314605, T: 37500, Avg. loss: 0.455801\n",
      "Total training time: 0.03 seconds.\n",
      "-- Epoch 2\n",
      "Norm: 0.92, NNZs: 15, Bias: -0.469578, T: 75000, Avg. loss: 0.394737\n",
      "Total training time: 0.06 seconds.\n",
      "-- Epoch 3\n",
      "Norm: 0.98, NNZs: 15, Bias: -0.580452, T: 112500, Avg. loss: 0.385561\n",
      "Total training time: 0.08 seconds.\n",
      "-- Epoch 4\n",
      "Norm: 1.02, NNZs: 15, Bias: -0.660824, T: 150000, Avg. loss: 0.382161\n",
      "Total training time: 0.10 seconds.\n",
      "-- Epoch 5\n",
      "Norm: 1.04, NNZs: 15, Bias: -0.717218, T: 187500, Avg. loss: 0.380474\n",
      "Total training time: 0.12 seconds.\n",
      "-- Epoch 6\n",
      "Norm: 1.06, NNZs: 15, Bias: -0.761816, T: 225000, Avg. loss: 0.379481\n",
      "Total training time: 0.15 seconds.\n",
      "Convergence after 6 epochs took 0.15 seconds\n"
     ]
    },
    {
     "data": {
      "text/plain": [
       "SGDClassifier(alpha=0.0001, average=False, class_weight=None, epsilon=0.1,\n",
       "       eta0=0.0001, fit_intercept=True, l1_ratio=0.15,\n",
       "       learning_rate='constant', loss='log', max_iter=None, n_iter=None,\n",
       "       n_jobs=1, penalty='l2', power_t=0.5, random_state=15, shuffle=True,\n",
       "       tol=0.001, verbose=2, warm_start=False)"
      ]
     },
     "execution_count": 9,
     "metadata": {},
     "output_type": "execute_result"
    }
   ],
   "source": [
    "clf.fit(X=X_train, y=y_train)"
   ]
  },
  {
   "cell_type": "code",
   "execution_count": 10,
   "metadata": {
    "colab": {
     "base_uri": "https://localhost:8080/",
     "height": 102
    },
    "colab_type": "code",
    "id": "7WaVxhGpSvnj",
    "outputId": "4597c980-81af-40ad-ca1d-2ff327025a64"
   },
   "outputs": [
    {
     "data": {
      "text/plain": [
       "(array([[-0.41177431,  0.18416782, -0.13895073,  0.33572511, -0.18423237,\n",
       "          0.5494352 , -0.45213692, -0.08857465,  0.21536661,  0.17351757,\n",
       "          0.18480827,  0.00443463, -0.07033001,  0.33683181,  0.02004129]]),\n",
       " (1, 15),\n",
       " array([-0.76181561]))"
      ]
     },
     "execution_count": 10,
     "metadata": {},
     "output_type": "execute_result"
    }
   ],
   "source": [
    "clf.coef_, clf.coef_.shape, clf.intercept_"
   ]
  },
  {
   "cell_type": "markdown",
   "metadata": {
    "colab_type": "text",
    "id": "Su9e8fRLSvno"
   },
   "source": [
    " ## Our Model"
   ]
  },
  {
   "cell_type": "markdown",
   "metadata": {
    "colab_type": "text",
    "id": "gcz5_UqCSvnq"
   },
   "source": [
    "**For better clarity we havent added a column of ones to Xtrain and rather kept the weights vector and bias separate.** "
   ]
  },
  {
   "cell_type": "code",
   "execution_count": 11,
   "metadata": {
    "colab": {},
    "colab_type": "code",
    "id": "0voVRQyp_NHh"
   },
   "outputs": [],
   "source": [
    "import random\n",
    "import math\n",
    "\n",
    "import numpy as np\n",
    "import pandas as pd\n",
    "from sklearn.model_selection import train_test_split\n",
    "import matplotlib.pyplot as plt\n",
    "from sklearn.datasets import make_classification"
   ]
  },
  {
   "cell_type": "code",
   "execution_count": 12,
   "metadata": {
    "colab": {},
    "colab_type": "code",
    "collapsed": true,
    "id": "Hz5KIxr9X7dJ"
   },
   "outputs": [],
   "source": [
    "X, y = make_classification(n_samples=50000, n_features=15, n_informative=10, n_redundant=5,\n",
    "                           n_classes=2, weights=[0.7], class_sep=0.7, random_state=15)"
   ]
  },
  {
   "cell_type": "code",
   "execution_count": 13,
   "metadata": {
    "colab": {
     "base_uri": "https://localhost:8080/",
     "height": 317
    },
    "colab_type": "code",
    "id": "OBoYVMOulyt9",
    "outputId": "466a774d-241a-4f4b-b508-312e3349e133"
   },
   "outputs": [
    {
     "data": {
      "text/html": [
       "<div>\n",
       "<style>\n",
       "    .dataframe thead tr:only-child th {\n",
       "        text-align: right;\n",
       "    }\n",
       "\n",
       "    .dataframe thead th {\n",
       "        text-align: left;\n",
       "    }\n",
       "\n",
       "    .dataframe tbody tr th {\n",
       "        vertical-align: top;\n",
       "    }\n",
       "</style>\n",
       "<table border=\"1\" class=\"dataframe\">\n",
       "  <thead>\n",
       "    <tr style=\"text-align: right;\">\n",
       "      <th></th>\n",
       "      <th>0</th>\n",
       "      <th>1</th>\n",
       "      <th>2</th>\n",
       "      <th>3</th>\n",
       "      <th>4</th>\n",
       "      <th>5</th>\n",
       "      <th>6</th>\n",
       "      <th>7</th>\n",
       "      <th>8</th>\n",
       "      <th>9</th>\n",
       "      <th>10</th>\n",
       "      <th>11</th>\n",
       "      <th>12</th>\n",
       "      <th>13</th>\n",
       "      <th>14</th>\n",
       "    </tr>\n",
       "  </thead>\n",
       "  <tbody>\n",
       "    <tr>\n",
       "      <th>count</th>\n",
       "      <td>50000.000000</td>\n",
       "      <td>50000.000000</td>\n",
       "      <td>50000.000000</td>\n",
       "      <td>50000.000000</td>\n",
       "      <td>50000.000000</td>\n",
       "      <td>50000.000000</td>\n",
       "      <td>50000.000000</td>\n",
       "      <td>50000.000000</td>\n",
       "      <td>50000.000000</td>\n",
       "      <td>50000.000000</td>\n",
       "      <td>50000.000000</td>\n",
       "      <td>50000.000000</td>\n",
       "      <td>50000.000000</td>\n",
       "      <td>50000.000000</td>\n",
       "      <td>50000.000000</td>\n",
       "    </tr>\n",
       "    <tr>\n",
       "      <th>mean</th>\n",
       "      <td>0.266454</td>\n",
       "      <td>0.207401</td>\n",
       "      <td>0.207484</td>\n",
       "      <td>-0.491013</td>\n",
       "      <td>-0.700210</td>\n",
       "      <td>-0.294138</td>\n",
       "      <td>0.273313</td>\n",
       "      <td>0.695944</td>\n",
       "      <td>-0.030006</td>\n",
       "      <td>0.006645</td>\n",
       "      <td>0.609432</td>\n",
       "      <td>-1.110552</td>\n",
       "      <td>-0.528438</td>\n",
       "      <td>-0.511179</td>\n",
       "      <td>0.231617</td>\n",
       "    </tr>\n",
       "    <tr>\n",
       "      <th>std</th>\n",
       "      <td>2.126825</td>\n",
       "      <td>1.970479</td>\n",
       "      <td>1.874263</td>\n",
       "      <td>1.762062</td>\n",
       "      <td>1.649456</td>\n",
       "      <td>1.723327</td>\n",
       "      <td>2.050374</td>\n",
       "      <td>1.986726</td>\n",
       "      <td>4.385574</td>\n",
       "      <td>2.094178</td>\n",
       "      <td>4.066106</td>\n",
       "      <td>3.406985</td>\n",
       "      <td>2.612897</td>\n",
       "      <td>2.073009</td>\n",
       "      <td>2.525177</td>\n",
       "    </tr>\n",
       "    <tr>\n",
       "      <th>min</th>\n",
       "      <td>-8.360184</td>\n",
       "      <td>-8.791185</td>\n",
       "      <td>-7.383914</td>\n",
       "      <td>-7.692214</td>\n",
       "      <td>-7.729431</td>\n",
       "      <td>-7.750905</td>\n",
       "      <td>-8.661642</td>\n",
       "      <td>-7.848835</td>\n",
       "      <td>-23.924167</td>\n",
       "      <td>-8.678568</td>\n",
       "      <td>-17.056269</td>\n",
       "      <td>-18.299831</td>\n",
       "      <td>-13.340440</td>\n",
       "      <td>-8.971211</td>\n",
       "      <td>-12.804785</td>\n",
       "    </tr>\n",
       "    <tr>\n",
       "      <th>25%</th>\n",
       "      <td>-1.162846</td>\n",
       "      <td>-1.090813</td>\n",
       "      <td>-1.084520</td>\n",
       "      <td>-1.675401</td>\n",
       "      <td>-1.805095</td>\n",
       "      <td>-1.430182</td>\n",
       "      <td>-1.103160</td>\n",
       "      <td>-0.607170</td>\n",
       "      <td>-2.989116</td>\n",
       "      <td>-1.427887</td>\n",
       "      <td>-1.924670</td>\n",
       "      <td>-3.311911</td>\n",
       "      <td>-2.213970</td>\n",
       "      <td>-1.899357</td>\n",
       "      <td>-1.422223</td>\n",
       "    </tr>\n",
       "    <tr>\n",
       "      <th>50%</th>\n",
       "      <td>0.241495</td>\n",
       "      <td>0.235629</td>\n",
       "      <td>0.183688</td>\n",
       "      <td>-0.543458</td>\n",
       "      <td>-0.705345</td>\n",
       "      <td>-0.354602</td>\n",
       "      <td>0.275627</td>\n",
       "      <td>0.705302</td>\n",
       "      <td>0.027739</td>\n",
       "      <td>-0.018822</td>\n",
       "      <td>0.635744</td>\n",
       "      <td>-1.163694</td>\n",
       "      <td>-0.598621</td>\n",
       "      <td>-0.497557</td>\n",
       "      <td>0.196780</td>\n",
       "    </tr>\n",
       "    <tr>\n",
       "      <th>75%</th>\n",
       "      <td>1.683281</td>\n",
       "      <td>1.501122</td>\n",
       "      <td>1.461999</td>\n",
       "      <td>0.656996</td>\n",
       "      <td>0.401761</td>\n",
       "      <td>0.784513</td>\n",
       "      <td>1.660565</td>\n",
       "      <td>2.002337</td>\n",
       "      <td>2.912834</td>\n",
       "      <td>1.382269</td>\n",
       "      <td>3.155235</td>\n",
       "      <td>1.049781</td>\n",
       "      <td>1.068512</td>\n",
       "      <td>0.908975</td>\n",
       "      <td>1.822896</td>\n",
       "    </tr>\n",
       "    <tr>\n",
       "      <th>max</th>\n",
       "      <td>11.017564</td>\n",
       "      <td>8.879740</td>\n",
       "      <td>8.065992</td>\n",
       "      <td>7.255772</td>\n",
       "      <td>6.487590</td>\n",
       "      <td>7.808481</td>\n",
       "      <td>8.361272</td>\n",
       "      <td>10.323580</td>\n",
       "      <td>19.131734</td>\n",
       "      <td>10.206260</td>\n",
       "      <td>18.604384</td>\n",
       "      <td>15.941515</td>\n",
       "      <td>15.278376</td>\n",
       "      <td>7.844041</td>\n",
       "      <td>14.235675</td>\n",
       "    </tr>\n",
       "  </tbody>\n",
       "</table>\n",
       "</div>"
      ],
      "text/plain": [
       "                 0             1             2             3             4   \\\n",
       "count  50000.000000  50000.000000  50000.000000  50000.000000  50000.000000   \n",
       "mean       0.266454      0.207401      0.207484     -0.491013     -0.700210   \n",
       "std        2.126825      1.970479      1.874263      1.762062      1.649456   \n",
       "min       -8.360184     -8.791185     -7.383914     -7.692214     -7.729431   \n",
       "25%       -1.162846     -1.090813     -1.084520     -1.675401     -1.805095   \n",
       "50%        0.241495      0.235629      0.183688     -0.543458     -0.705345   \n",
       "75%        1.683281      1.501122      1.461999      0.656996      0.401761   \n",
       "max       11.017564      8.879740      8.065992      7.255772      6.487590   \n",
       "\n",
       "                 5             6             7             8             9   \\\n",
       "count  50000.000000  50000.000000  50000.000000  50000.000000  50000.000000   \n",
       "mean      -0.294138      0.273313      0.695944     -0.030006      0.006645   \n",
       "std        1.723327      2.050374      1.986726      4.385574      2.094178   \n",
       "min       -7.750905     -8.661642     -7.848835    -23.924167     -8.678568   \n",
       "25%       -1.430182     -1.103160     -0.607170     -2.989116     -1.427887   \n",
       "50%       -0.354602      0.275627      0.705302      0.027739     -0.018822   \n",
       "75%        0.784513      1.660565      2.002337      2.912834      1.382269   \n",
       "max        7.808481      8.361272     10.323580     19.131734     10.206260   \n",
       "\n",
       "                 10            11            12            13            14  \n",
       "count  50000.000000  50000.000000  50000.000000  50000.000000  50000.000000  \n",
       "mean       0.609432     -1.110552     -0.528438     -0.511179      0.231617  \n",
       "std        4.066106      3.406985      2.612897      2.073009      2.525177  \n",
       "min      -17.056269    -18.299831    -13.340440     -8.971211    -12.804785  \n",
       "25%       -1.924670     -3.311911     -2.213970     -1.899357     -1.422223  \n",
       "50%        0.635744     -1.163694     -0.598621     -0.497557      0.196780  \n",
       "75%        3.155235      1.049781      1.068512      0.908975      1.822896  \n",
       "max       18.604384     15.941515     15.278376      7.844041     14.235675  "
      ]
     },
     "execution_count": 13,
     "metadata": {},
     "output_type": "execute_result"
    }
   ],
   "source": [
    "pd.DataFrame(data = X).describe()"
   ]
  },
  {
   "cell_type": "code",
   "execution_count": 14,
   "metadata": {
    "colab": {},
    "colab_type": "code",
    "collapsed": true,
    "id": "Fpz8X5DMSvn2"
   },
   "outputs": [],
   "source": [
    "#reshaping y and weight vector for compatibilty\n",
    "# adding a 0 at the first position of w as the intial intercept for weight vector. this means w[0] is our intercept\n",
    "# adding a column of 1s to X. This will work as the compatibility term for our intercept.\n",
    "# now our eq is from y = w.T*X + b to y = w.T*X . \n",
    "# this concept has been taken from Andrew Ng's machine learning course\n",
    "\n",
    "y = y.reshape(-1,1)\n",
    "\n",
    "#X = np.hstack((np.ones_like(X[:,0]).reshape(-1,1),X))\n",
    "w = np.zeros_like(X[0]).reshape(-1,1)\n",
    "b = 0\n",
    "np.random.seed(0)\n",
    "#W = np.random.uniform(0,1,size=(X.shape[1],1))\n",
    "#b=0.5\n",
    "\n",
    "eta0  = 0.0001 # learning rate\n",
    "alpha = 0.0001 # regularizing term i.e. lambda\n",
    "N = len(y)"
   ]
  },
  {
   "cell_type": "code",
   "execution_count": 15,
   "metadata": {
    "colab": {},
    "colab_type": "code",
    "collapsed": true,
    "id": "OAiKtwDXXCl9"
   },
   "outputs": [],
   "source": [
    "#Splitting X,y into train and test set\n",
    "X_train, X_test, y_train, y_test = train_test_split(X, y, test_size=0.25, random_state=15)"
   ]
  },
  {
   "cell_type": "code",
   "execution_count": 16,
   "metadata": {
    "colab": {
     "base_uri": "https://localhost:8080/",
     "height": 68
    },
    "colab_type": "code",
    "id": "Gaom9khshRRa",
    "outputId": "8e77e853-9fab-4672-eabe-edf25ed1f866"
   },
   "outputs": [
    {
     "name": "stdout",
     "output_type": "stream",
     "text": [
      "[ 1.17133535 -1.00849691  0.40726112 -2.05334509 -1.37381592 -2.99724545\n",
      "  0.7787227   0.87207405 -2.17362041  1.22938588  0.21266735 -2.21599818\n",
      " -1.8801447  -0.61688062 -0.68442615]\n"
     ]
    }
   ],
   "source": [
    "print(X[0,:])"
   ]
  },
  {
   "cell_type": "markdown",
   "metadata": {
    "colab_type": "text",
    "id": "QWeke9uYsunj"
   },
   "source": [
    "* All the value of weight vector have been initialized to 0."
   ]
  },
  {
   "cell_type": "code",
   "execution_count": 17,
   "metadata": {
    "colab": {
     "base_uri": "https://localhost:8080/",
     "height": 68
    },
    "colab_type": "code",
    "id": "3PiQrZfNXLaO",
    "outputId": "e62f5506-f120-4efb-9994-94b9fe4d1265"
   },
   "outputs": [
    {
     "name": "stdout",
     "output_type": "stream",
     "text": [
      "(15, 1)\n",
      "(50000, 15)\n",
      "(50000, 1)\n"
     ]
    }
   ],
   "source": [
    "print(w.shape)\n",
    "print(X.shape)\n",
    "print(y.shape)"
   ]
  },
  {
   "cell_type": "code",
   "execution_count": 18,
   "metadata": {
    "colab": {},
    "colab_type": "code",
    "collapsed": true,
    "id": "mH7jfIQ_9OEQ"
   },
   "outputs": [],
   "source": [
    "# Definition of sigmoid function used in Logistic Regression\n",
    "def sigmoid(X):\n",
    "   return 1/(1+np.exp(-X))"
   ]
  },
  {
   "cell_type": "code",
   "execution_count": 19,
   "metadata": {
    "colab": {},
    "colab_type": "code",
    "collapsed": true,
    "id": "UzmEy3mDgU_c"
   },
   "outputs": [],
   "source": [
    "#the below function provides the probabilistic prediction of a datapoint in X.\n",
    "def pred(X,w,b):\n",
    "  prediction = sigmoid(np.dot(X,w)+b)\n",
    "  for i in range(len(prediction)):\n",
    "    if prediction[i] == 1.0:\n",
    "      prediction[i] = sigmoid(36)\n",
    "  # shape is m * 1\n",
    "  return(prediction)"
   ]
  },
  {
   "cell_type": "code",
   "execution_count": 20,
   "metadata": {
    "colab": {},
    "colab_type": "code",
    "collapsed": true,
    "id": "Uwt_YtRlibeN"
   },
   "outputs": [],
   "source": [
    "# https://www.geeksforgeeks.org/multiplication-two-matrices-single-line-using-numpy-python/\n",
    "# https://ml-cheatsheet.readthedocs.io/en/latest/logistic_regression.html#training\n",
    "# Below function calculates the cost/loss of a prediction\n",
    "# alpha is the regularization multiplyer here. i.e. lambda\n",
    "def cost_func(X,y,w,lamda,b):\n",
    "  y = y.reshape(-1,1)\n",
    "  #cost =  sum(np.log(1-np.exp(-y*(np.dot(X,w)))))\n",
    "  cost = (np.sum(-y*np.log(pred(X,w,b)) - (1-y)*np.log(1-pred(X,w,b))) + np.sum((lamda/2)*w**2))/len(y)\n",
    "  return cost\n"
   ]
  },
  {
   "cell_type": "code",
   "execution_count": 21,
   "metadata": {
    "colab": {
     "base_uri": "https://localhost:8080/",
     "height": 34
    },
    "colab_type": "code",
    "id": "Mtnh1V658t82",
    "outputId": "4221d23a-e39a-4f6e-b6e3-5433740e0245"
   },
   "outputs": [
    {
     "name": "stdout",
     "output_type": "stream",
     "text": [
      "[0.69314718055994529]\n"
     ]
    }
   ],
   "source": [
    "train_cost_list = []\n",
    "test_cost_list = []\n",
    "train_cost_list.append(cost_func(X_train,y_train,w,alpha,b))\n",
    "print(train_cost_list) # Avg loss of training set when weight vector is 0s."
   ]
  },
  {
   "cell_type": "code",
   "execution_count": 22,
   "metadata": {
    "colab": {
     "base_uri": "https://localhost:8080/",
     "height": 34
    },
    "colab_type": "code",
    "id": "9mz6vMAX_HCg",
    "outputId": "b1c2f311-3e14-4cb4-b0a9-48d0b43f5a4b"
   },
   "outputs": [
    {
     "data": {
      "text/plain": [
       "0.69314718055994529"
      ]
     },
     "execution_count": 22,
     "metadata": {},
     "output_type": "execute_result"
    }
   ],
   "source": [
    "#for cross-checking\n",
    "from sklearn.metrics import log_loss\n",
    "\n",
    "loss = log_loss(y, pred(X,w,b))\n",
    "loss"
   ]
  },
  {
   "cell_type": "markdown",
   "metadata": {
    "colab_type": "text",
    "id": "3eTZz0LJ_oXV"
   },
   "source": [
    "$w^{(t+1)} ← (1 − \\frac{αλ}{N} )w^{(t)} + αx_n(y_n − σ((w^{(t)})^{T} x_n+b^{t}))$ <br>\n",
    "        $b^{(t+1)} ← (b^t −  α(-y_n + σ((w^{(t)})^{T} x_n+b^{t}))$ "
   ]
  },
  {
   "cell_type": "code",
   "execution_count": 23,
   "metadata": {
    "colab": {},
    "colab_type": "code",
    "collapsed": true,
    "id": "B6Y5kVscSvn5"
   },
   "outputs": [],
   "source": [
    "# derivative of cost function : https://math.stackexchange.com/questions/477207/derivative-of-cost-function-for-logistic-regression\n",
    "# below definition is used to optimize the lambda by subtracting its value for LR* (dJ/dw at w) .\n",
    "# lr is the learning rate at which we want our w to be optimized\n",
    "def optimized(X,y,w,lr,lamda,b):\n",
    "  # grad = y*np.log(pred(X,w)) + (1-y)*np.log(1-pred(X,w)) + alpha*np.dot(w.T,w)\n",
    "  #def_grad = (np.dot(X.T,(pred(X,w) - y)) + (lamda*2*w))/len(y)\n",
    "  #w = w - lr*def_grad\n",
    "  N = len(y)\n",
    "  #w = (1 - lr*lamda/N)*w + lr*np.dot(X.T,(y-pred(X,w,b)))\n",
    "  w = w - (lr/N)*(np.dot(X.T,(pred(X,w,b) - y)) + lamda*w)\n",
    "  b = b - lr*np.sum(pred(X,w,b) - y)/N\n",
    "  \n",
    "  return w,b"
   ]
  },
  {
   "cell_type": "code",
   "execution_count": 24,
   "metadata": {
    "colab": {
     "base_uri": "https://localhost:8080/",
     "height": 663
    },
    "colab_type": "code",
    "id": "ODtttjBeibUk",
    "outputId": "b376a85b-0f7d-47bf-c7bd-b17b1e3f0c02"
   },
   "outputs": [
    {
     "name": "stdout",
     "output_type": "stream",
     "text": [
      "0.404032239403\n",
      "1\n",
      "0.388407965583\n",
      "2\n",
      "0.383152713014\n",
      "3\n",
      "0.380790776947\n",
      "4\n",
      "0.379609356837\n",
      "5\n",
      "0.378987019198\n",
      "6\n",
      "0.378649671195\n",
      "7\n",
      "0.378463586214\n",
      "8\n",
      "0.37835973692\n",
      "9\n",
      "0.378301288038\n",
      "10\n"
     ]
    }
   ],
   "source": [
    "# since we dont know how many iteration it will take to find the optimized w which will give us the least loss,\n",
    "# we are using while loop with a stop condition\n",
    "# condition : when the last two loss values in the train_cost_list are very very close(~0.0000001) then we can stop the loop\n",
    "# We are using the X_train to optimize the w but we are storing lossvalues of train and test set to compare them.\n",
    "\n",
    "\n",
    "iter_ = True\n",
    "w,b = optimized(X_train,y_train,w,0.001,alpha,b)\n",
    "train_cost_list.append(cost_func(X_train,y_train,w,alpha,b))\n",
    "test_cost_list.append(cost_func(X_test,y_test,w,alpha,b))\n",
    "iter_count = 0\n",
    "while iter_:\n",
    "  for j in range(len(X_train)):\n",
    "    w,b = optimized(X_train[j:j+1,:],y_train[j],w,0.0001,alpha,b)\n",
    "\n",
    "  #row = random.sample(range(len(X_train)),50000)\n",
    "  #xx = X_train[row,:]\n",
    "  #yy = y_train[row]\n",
    "  #w,b = optimized(xx,yy,w,0.05,alpha,b)\n",
    " \n",
    "  tr_cost = cost_func(X_train,y_train,w,alpha,b)\n",
    "  te_cost = cost_func(X_test,y_test,w,alpha,b)\n",
    "\n",
    "  train_cost_list.append(tr_cost)\n",
    "  test_cost_list.append(te_cost)\n",
    "  iter_count += 1\n",
    "  if abs(train_cost_list[-1] - train_cost_list[-2]) < 0.0001:\n",
    "    iter_ = False\n",
    "  print(train_cost_list[-1])\n",
    "  print(iter_count)"
   ]
  },
  {
   "cell_type": "code",
   "execution_count": 25,
   "metadata": {
    "colab": {
     "base_uri": "https://localhost:8080/",
     "height": 51
    },
    "colab_type": "code",
    "id": "8xoK88whEW18",
    "outputId": "f8689ecd-0072-470b-b67e-88c7689d785b"
   },
   "outputs": [
    {
     "name": "stdout",
     "output_type": "stream",
     "text": [
      "(50000, 15)\n",
      "(15, 1)\n"
     ]
    }
   ],
   "source": [
    "\n",
    "print(X.shape)\n",
    "print(w.shape)\n",
    "#print(b.shape)\n"
   ]
  },
  {
   "cell_type": "code",
   "execution_count": 26,
   "metadata": {
    "colab": {},
    "colab_type": "code",
    "collapsed": true,
    "id": "MO-1hUUgT-Fe"
   },
   "outputs": [],
   "source": [
    "w = np.array(w).reshape(-1,1)"
   ]
  },
  {
   "cell_type": "code",
   "execution_count": 27,
   "metadata": {
    "colab": {
     "base_uri": "https://localhost:8080/",
     "height": 51
    },
    "colab_type": "code",
    "id": "gBkZdl1tqofj",
    "outputId": "185e34be-8c52-4be0-80ea-94a0f3b3a8de"
   },
   "outputs": [
    {
     "name": "stdout",
     "output_type": "stream",
     "text": [
      "0.378301288038\n"
     ]
    },
    {
     "data": {
      "text/plain": [
       "0.38029642263059155"
      ]
     },
     "execution_count": 27,
     "metadata": {},
     "output_type": "execute_result"
    }
   ],
   "source": [
    "print(train_cost_list[-1])\n",
    "test_cost_list[-1]"
   ]
  },
  {
   "cell_type": "code",
   "execution_count": 28,
   "metadata": {
    "colab": {
     "base_uri": "https://localhost:8080/",
     "height": 295
    },
    "colab_type": "code",
    "id": "1YZoykX0Vu7Y",
    "outputId": "453ea7a2-5d0f-4b10-867e-f85e20235a10"
   },
   "outputs": [
    {
     "data": {
      "image/png": "[encoded data removed]",
      "text/plain": [
       "<matplotlib.figure.Figure at 0x1820bd8a9e8>"
      ]
     },
     "metadata": {},
     "output_type": "display_data"
    }
   ],
   "source": [
    "# plotting train and test loss\n",
    "\n",
    "plt.plot(train_cost_list,label = 'Train Loss')\n",
    "plt.plot(test_cost_list,label = 'Test Loss')\n",
    "\n",
    "plt.legend()\n",
    "plt.xlabel(\"Epoch Number\")\n",
    "plt.ylabel(\"Loss\")\n",
    "\n",
    "plt.title(\"Train Loss Vs Test Loss\")\n",
    "plt.grid()\n",
    "plt.show()\n"
   ]
  },
  {
   "cell_type": "code",
   "execution_count": 29,
   "metadata": {
    "colab": {
     "base_uri": "https://localhost:8080/",
     "height": 306
    },
    "colab_type": "code",
    "id": "xkT1KBJuLXhz",
    "outputId": "a7989af1-d625-42dd-c4df-fe548bcaf576"
   },
   "outputs": [
    {
     "name": "stdout",
     "output_type": "stream",
     "text": [
      "best weight : \n",
      " [[-0.42291962]\n",
      " [ 0.19086047]\n",
      " [-0.14572511]\n",
      " [ 0.33795115]\n",
      " [-0.21177796]\n",
      " [ 0.56492274]\n",
      " [-0.44521243]\n",
      " [-0.09166814]\n",
      " [ 0.21784835]\n",
      " [ 0.16962552]\n",
      " [ 0.19510543]\n",
      " [ 0.00228425]\n",
      " [-0.07775621]\n",
      " [ 0.33865727]\n",
      " [ 0.02215788]]\n",
      "best intercept : -0.850007138476\n"
     ]
    }
   ],
   "source": [
    "# the optimized weight vector and the intercept\n",
    "print('best weight : \\n',w)\n",
    "print('best intercept :',b)\n"
   ]
  },
  {
   "cell_type": "code",
   "execution_count": 30,
   "metadata": {
    "colab": {
     "base_uri": "https://localhost:8080/",
     "height": 102
    },
    "colab_type": "code",
    "id": "Yy8jWaa7Svn_",
    "outputId": "de69adb4-b90f-45f5-906e-8d796a347c4d",
    "scrolled": true
   },
   "outputs": [
    {
     "data": {
      "text/plain": [
       "(array([[-0.41177431,  0.18416782, -0.13895073,  0.33572511, -0.18423237,\n",
       "          0.5494352 , -0.45213692, -0.08857465,  0.21536661,  0.17351757,\n",
       "          0.18480827,  0.00443463, -0.07033001,  0.33683181,  0.02004129]]),\n",
       " (1, 15),\n",
       " array([-0.76181561]))"
      ]
     },
     "execution_count": 30,
     "metadata": {},
     "output_type": "execute_result"
    }
   ],
   "source": [
    "# these are the results we got after we implemented sgd and found the optimal weights and intercept\n",
    "clf.coef_, clf.coef_.shape, clf.intercept_"
   ]
  },
  {
   "cell_type": "markdown",
   "metadata": {},
   "source": [
    "* Comparing both the weight vector of my model and of the sklearn model , we can see there isnt much difference between them."
   ]
  },
  {
   "cell_type": "code",
   "execution_count": 31,
   "metadata": {
    "colab": {
     "base_uri": "https://localhost:8080/",
     "height": 51
    },
    "colab_type": "code",
    "id": "48gx6wQKSvoE",
    "outputId": "9e64422b-d40e-4788-e522-db6312c7be20"
   },
   "outputs": [
    {
     "name": "stdout",
     "output_type": "stream",
     "text": [
      "0.955306666667\n",
      "0.95288\n"
     ]
    }
   ],
   "source": [
    "# Avg Accuracy of our prediction\n",
    "def pred_(w, X):\n",
    "    N = len(X)\n",
    "    predict = []\n",
    "    for i in range(N):\n",
    "        if pred(X[i],w,b) >= 0.5: # sigmoid(w,x,b) returns 1/(1+exp(-(dot(x,w)+b)))\n",
    "            predict.append(1)\n",
    "        else:\n",
    "            predict.append(0)\n",
    "    return np.array(predict).reshape(-1,1)\n",
    "print(1-np.sum(y_train - pred_(w,X_train))/len(X_train))\n",
    "print(1-np.sum(y_test  - pred_(w,X_test))/len(X_test))"
   ]
  }
 ],
 "metadata": {
  "colab": {
   "collapsed_sections": [],
   "machine_shape": "hm",
   "name": "spr00007@gmail.com_7.ipynb",
   "provenance": []
  },
  "kernelspec": {
   "display_name": "Python 3",
   "language": "python",
   "name": "python3"
  },
  "language_info": {
   "codemirror_mode": {
    "name": "ipython",
    "version": 3
   },
   "file_extension": ".py",
   "mimetype": "text/x-python",
   "name": "python",
   "nbconvert_exporter": "python",
   "pygments_lexer": "ipython3",
   "version": "3.6.3"
  }
 },
 "nbformat": 4,
 "nbformat_minor": 1
}
