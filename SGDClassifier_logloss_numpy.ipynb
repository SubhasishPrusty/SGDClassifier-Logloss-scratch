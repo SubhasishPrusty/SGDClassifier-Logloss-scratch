{
  "nbformat": 4,
  "nbformat_minor": 0,
  "metadata": {
    "colab": {
      "name": "spr00007@gmail.com_7.ipynb",
      "provenance": [],
      "collapsed_sections": [],
      "machine_shape": "hm"
    },
    "language_info": {
      "codemirror_mode": {
        "name": "ipython",
        "version": 3
      },
      "file_extension": ".py",
      "mimetype": "text/x-python",
      "name": "python",
      "nbconvert_exporter": "python",
      "pygments_lexer": "ipython3",
      "version": "3.6.8"
    },
    "kernelspec": {
      "display_name": "Python 3",
      "language": "python",
      "name": "python3"
    }
  },
  "cells": [
    {
      "cell_type": "code",
      "metadata": {
        "id": "I2S-uFqwSvmg",
        "colab_type": "code",
        "colab": {}
      },
      "source": [
        "import numpy as np\n",
        "import pandas as pd\n",
        "from sklearn.datasets import make_classification"
      ],
      "execution_count": 0,
      "outputs": []
    },
    {
      "cell_type": "code",
      "metadata": {
        "id": "FUxLkBjISvmr",
        "colab_type": "code",
        "colab": {}
      },
      "source": [
        "X, y = make_classification(n_samples=50000, n_features=15, n_informative=10, n_redundant=5,\n",
        "                           n_classes=2, weights=[0.7], class_sep=0.7, random_state=15)"
      ],
      "execution_count": 0,
      "outputs": []
    },
    {
      "cell_type": "code",
      "metadata": {
        "id": "xexp5GYNSvmz",
        "colab_type": "code",
        "outputId": "07eea558-f9c2-4457-8a71-a60a48228677",
        "colab": {
          "base_uri": "https://localhost:8080/",
          "height": 34
        }
      },
      "source": [
        "X.shape, y.shape"
      ],
      "execution_count": 36,
      "outputs": [
        {
          "output_type": "execute_result",
          "data": {
            "text/plain": [
              "((50000, 15), (50000,))"
            ]
          },
          "metadata": {
            "tags": []
          },
          "execution_count": 36
        }
      ]
    },
    {
      "cell_type": "markdown",
      "metadata": {
        "id": "54vJVc_KSvm9",
        "colab_type": "text"
      },
      "source": [
        " "
      ]
    },
    {
      "cell_type": "code",
      "metadata": {
        "id": "9pKAn1-ASvm_",
        "colab_type": "code",
        "colab": {}
      },
      "source": [
        "from sklearn.model_selection import train_test_split"
      ],
      "execution_count": 0,
      "outputs": []
    },
    {
      "cell_type": "code",
      "metadata": {
        "id": "r97pFTgrSvnE",
        "colab_type": "code",
        "colab": {}
      },
      "source": [
        "X_train, X_test, y_train, y_test = train_test_split(X, y, test_size=0.25, random_state=15)"
      ],
      "execution_count": 0,
      "outputs": []
    },
    {
      "cell_type": "code",
      "metadata": {
        "id": "jykLIXZNSvnJ",
        "colab_type": "code",
        "outputId": "a190deab-5605-4786-b4f6-a59c9300ff77",
        "colab": {
          "base_uri": "https://localhost:8080/",
          "height": 34
        }
      },
      "source": [
        "X_train.shape, y_train.shape, X_test.shape, y_test.shape"
      ],
      "execution_count": 39,
      "outputs": [
        {
          "output_type": "execute_result",
          "data": {
            "text/plain": [
              "((37500, 15), (37500,), (12500, 15), (12500,))"
            ]
          },
          "metadata": {
            "tags": []
          },
          "execution_count": 39
        }
      ]
    },
    {
      "cell_type": "markdown",
      "metadata": {
        "id": "g0-M6oXASvnO",
        "colab_type": "text"
      },
      "source": [
        " "
      ]
    },
    {
      "cell_type": "code",
      "metadata": {
        "id": "sShoMeocSvnP",
        "colab_type": "code",
        "colab": {}
      },
      "source": [
        "from sklearn import linear_model"
      ],
      "execution_count": 0,
      "outputs": []
    },
    {
      "cell_type": "code",
      "metadata": {
        "id": "gm6wi8L2SvnU",
        "colab_type": "code",
        "outputId": "be306b64-dadd-4efd-ef20-619b5f7d3c58",
        "colab": {
          "base_uri": "https://localhost:8080/",
          "height": 119
        }
      },
      "source": [
        "# alpha : float  lambda\n",
        "# Constant that multiplies the regularization term. \n",
        "\n",
        "# eta0 : double\n",
        "# The initial learning rate for the ‘constant’, ‘invscaling’ or ‘adaptive’ schedules.\n",
        "\n",
        "clf = linear_model.SGDClassifier(eta0=0.0001, alpha=0.0001, loss='log', random_state=15, penalty='l2', tol=1e-3, verbose=2, learning_rate='constant')\n",
        "clf"
      ],
      "execution_count": 41,
      "outputs": [
        {
          "output_type": "execute_result",
          "data": {
            "text/plain": [
              "SGDClassifier(alpha=0.0001, average=False, class_weight=None,\n",
              "              early_stopping=False, epsilon=0.1, eta0=0.0001,\n",
              "              fit_intercept=True, l1_ratio=0.15, learning_rate='constant',\n",
              "              loss='log', max_iter=1000, n_iter_no_change=5, n_jobs=None,\n",
              "              penalty='l2', power_t=0.5, random_state=15, shuffle=True,\n",
              "              tol=0.001, validation_fraction=0.1, verbose=2, warm_start=False)"
            ]
          },
          "metadata": {
            "tags": []
          },
          "execution_count": 41
        }
      ]
    },
    {
      "cell_type": "code",
      "metadata": {
        "id": "Q4WFoxgASvnc",
        "colab_type": "code",
        "outputId": "56d8a216-b3f2-415e-d57e-5a8b00c96ffc",
        "colab": {
          "base_uri": "https://localhost:8080/",
          "height": 646
        }
      },
      "source": [
        "clf.fit(X=X_train, y=y_train)"
      ],
      "execution_count": 42,
      "outputs": [
        {
          "output_type": "stream",
          "text": [
            "-- Epoch 1\n",
            "Norm: 0.77, NNZs: 15, Bias: -0.316653, T: 37500, Avg. loss: 0.455552\n",
            "Total training time: 0.01 seconds.\n",
            "-- Epoch 2\n",
            "Norm: 0.91, NNZs: 15, Bias: -0.472747, T: 75000, Avg. loss: 0.394686\n",
            "Total training time: 0.02 seconds.\n",
            "-- Epoch 3\n",
            "Norm: 0.98, NNZs: 15, Bias: -0.580082, T: 112500, Avg. loss: 0.385711\n",
            "Total training time: 0.03 seconds.\n",
            "-- Epoch 4\n",
            "Norm: 1.02, NNZs: 15, Bias: -0.658292, T: 150000, Avg. loss: 0.382083\n",
            "Total training time: 0.04 seconds.\n",
            "-- Epoch 5\n",
            "Norm: 1.04, NNZs: 15, Bias: -0.719528, T: 187500, Avg. loss: 0.380486\n",
            "Total training time: 0.05 seconds.\n",
            "-- Epoch 6\n",
            "Norm: 1.05, NNZs: 15, Bias: -0.763409, T: 225000, Avg. loss: 0.379578\n",
            "Total training time: 0.06 seconds.\n",
            "-- Epoch 7\n",
            "Norm: 1.06, NNZs: 15, Bias: -0.795106, T: 262500, Avg. loss: 0.379150\n",
            "Total training time: 0.06 seconds.\n",
            "-- Epoch 8\n",
            "Norm: 1.06, NNZs: 15, Bias: -0.819925, T: 300000, Avg. loss: 0.378856\n",
            "Total training time: 0.07 seconds.\n",
            "-- Epoch 9\n",
            "Norm: 1.07, NNZs: 15, Bias: -0.837805, T: 337500, Avg. loss: 0.378585\n",
            "Total training time: 0.08 seconds.\n",
            "-- Epoch 10\n",
            "Norm: 1.08, NNZs: 15, Bias: -0.853138, T: 375000, Avg. loss: 0.378630\n",
            "Total training time: 0.09 seconds.\n",
            "Convergence after 10 epochs took 0.09 seconds\n"
          ],
          "name": "stdout"
        },
        {
          "output_type": "execute_result",
          "data": {
            "text/plain": [
              "SGDClassifier(alpha=0.0001, average=False, class_weight=None,\n",
              "              early_stopping=False, epsilon=0.1, eta0=0.0001,\n",
              "              fit_intercept=True, l1_ratio=0.15, learning_rate='constant',\n",
              "              loss='log', max_iter=1000, n_iter_no_change=5, n_jobs=None,\n",
              "              penalty='l2', power_t=0.5, random_state=15, shuffle=True,\n",
              "              tol=0.001, validation_fraction=0.1, verbose=2, warm_start=False)"
            ]
          },
          "metadata": {
            "tags": []
          },
          "execution_count": 42
        }
      ]
    },
    {
      "cell_type": "code",
      "metadata": {
        "id": "7WaVxhGpSvnj",
        "colab_type": "code",
        "outputId": "4597c980-81af-40ad-ca1d-2ff327025a64",
        "colab": {
          "base_uri": "https://localhost:8080/",
          "height": 102
        }
      },
      "source": [
        "clf.coef_, clf.coef_.shape, clf.intercept_"
      ],
      "execution_count": 43,
      "outputs": [
        {
          "output_type": "execute_result",
          "data": {
            "text/plain": [
              "(array([[-0.42336692,  0.18547565, -0.14859036,  0.34144407, -0.2081867 ,\n",
              "          0.56016579, -0.45242483, -0.09408813,  0.2092732 ,  0.18084126,\n",
              "          0.19705191,  0.00421916, -0.0796037 ,  0.33852802,  0.02266721]]),\n",
              " (1, 15),\n",
              " array([-0.8531383]))"
            ]
          },
          "metadata": {
            "tags": []
          },
          "execution_count": 43
        }
      ]
    },
    {
      "cell_type": "markdown",
      "metadata": {
        "id": "Su9e8fRLSvno",
        "colab_type": "text"
      },
      "source": [
        " "
      ]
    },
    {
      "cell_type": "markdown",
      "metadata": {
        "id": "gcz5_UqCSvnq",
        "colab_type": "text"
      },
      "source": [
        " "
      ]
    },
    {
      "cell_type": "markdown",
      "metadata": {
        "id": "UOBvEchCSvnr",
        "colab_type": "text"
      },
      "source": [
        "## Implement Logistc Regression with L2 regularization Using SGD: without using sklearn"
      ]
    },
    {
      "cell_type": "markdown",
      "metadata": {
        "id": "Xbn61rrXSvnt",
        "colab_type": "text"
      },
      "source": [
        "### Instructions"
      ]
    },
    {
      "cell_type": "markdown",
      "metadata": {
        "id": "14bA5yR3Svnv",
        "colab_type": "text"
      },
      "source": [
        "- Load the datasets(train and test) into the respective arrays"
      ]
    },
    {
      "cell_type": "markdown",
      "metadata": {
        "id": "c7183hFBSvnv",
        "colab_type": "text"
      },
      "source": [
        "- Initialize the weight_vector and intercept term randomly"
      ]
    },
    {
      "cell_type": "markdown",
      "metadata": {
        "id": "hdLeFU0USvnx",
        "colab_type": "text"
      },
      "source": [
        "- Calculate the initlal log loss for the train and test data with the current weight and intercept and store it in a list"
      ]
    },
    {
      "cell_type": "markdown",
      "metadata": {
        "id": "pEVtAlO1Svny",
        "colab_type": "text"
      },
      "source": [
        "- for each epoch:\n",
        "    - for each batch of data points in train: (keep batch size=1)\n",
        "        - calculate the gradient of loss function w.r.t each weight in weight vector\n",
        "        - Calculate the gradient of the intercept <a href='https://drive.google.com/file/d/1nQ08-XY4zvOLzRX-lGf8EYB5arb7-m1H/view?usp=sharing'>check this</a>\n",
        "        - Update weights and intercept (check the equation number 32 in the above mentioned <a href='https://drive.google.com/file/d/1nQ08-XY4zvOLzRX-lGf8EYB5arb7-m1H/view?usp=sharing'>pdf</a>): <br>\n",
        "        $w^{(t+1)} ← (1 − \\frac{αλ}{N} )w^{(t)} + αx_n(y_n − σ((w^{(t)})^{T} x_n+b^{t}))$ <br>\n",
        "        $b^{(t+1)} ← (b^t −  α(-y_n + σ((w^{(t)})^{T} x_n+b^{t}))$ \n",
        "        - calculate the log loss for train and test with the updated weights (you can check the python assignment 10th question)\n",
        "        - And if you wish, you can compare the previous loss and the current loss, if it is not updating, then\n",
        "        you can stop the training\n",
        "        - append this loss in the list ( this will be used to see how loss is changing for each epoch after the training is over )\n"
      ]
    },
    {
      "cell_type": "markdown",
      "metadata": {
        "id": "2qmRH4UpSvny",
        "colab_type": "text"
      },
      "source": [
        "- Plot the train and test loss i.e on x-axis the epoch number, and on y-axis the loss"
      ]
    },
    {
      "cell_type": "markdown",
      "metadata": {
        "id": "lbZf9p5gSvn1",
        "colab_type": "text"
      },
      "source": [
        "- <strong>GOAL</strong>: compare your implementation and SGDClassifier's the weights and intercept, make sure they are as close as possible i.e difference should be in terms of 10^-3"
      ]
    },
    {
      "cell_type": "code",
      "metadata": {
        "id": "0voVRQyp_NHh",
        "colab_type": "code",
        "colab": {}
      },
      "source": [
        "import random\n",
        "import math\n",
        "from tqdm import tqdm_notebook as tqdm\n",
        "import numpy as np\n",
        "import pandas as pd\n",
        "from sklearn.model_selection import train_test_split\n",
        "import matplotlib.pyplot as plt\n",
        "from sklearn.datasets import make_classification"
      ],
      "execution_count": 0,
      "outputs": []
    },
    {
      "cell_type": "code",
      "metadata": {
        "colab_type": "code",
        "id": "Hz5KIxr9X7dJ",
        "colab": {}
      },
      "source": [
        "X, y = make_classification(n_samples=50000, n_features=15, n_informative=10, n_redundant=5,\n",
        "                           n_classes=2, weights=[0.7], class_sep=0.7, random_state=15)"
      ],
      "execution_count": 0,
      "outputs": []
    },
    {
      "cell_type": "code",
      "metadata": {
        "id": "OBoYVMOulyt9",
        "colab_type": "code",
        "outputId": "466a774d-241a-4f4b-b508-312e3349e133",
        "colab": {
          "base_uri": "https://localhost:8080/",
          "height": 317
        }
      },
      "source": [
        "pd.DataFrame(data = X).describe()"
      ],
      "execution_count": 46,
      "outputs": [
        {
          "output_type": "execute_result",
          "data": {
            "text/html": [
              "<div>\n",
              "<style scoped>\n",
              "    .dataframe tbody tr th:only-of-type {\n",
              "        vertical-align: middle;\n",
              "    }\n",
              "\n",
              "    .dataframe tbody tr th {\n",
              "        vertical-align: top;\n",
              "    }\n",
              "\n",
              "    .dataframe thead th {\n",
              "        text-align: right;\n",
              "    }\n",
              "</style>\n",
              "<table border=\"1\" class=\"dataframe\">\n",
              "  <thead>\n",
              "    <tr style=\"text-align: right;\">\n",
              "      <th></th>\n",
              "      <th>0</th>\n",
              "      <th>1</th>\n",
              "      <th>2</th>\n",
              "      <th>3</th>\n",
              "      <th>4</th>\n",
              "      <th>5</th>\n",
              "      <th>6</th>\n",
              "      <th>7</th>\n",
              "      <th>8</th>\n",
              "      <th>9</th>\n",
              "      <th>10</th>\n",
              "      <th>11</th>\n",
              "      <th>12</th>\n",
              "      <th>13</th>\n",
              "      <th>14</th>\n",
              "    </tr>\n",
              "  </thead>\n",
              "  <tbody>\n",
              "    <tr>\n",
              "      <th>count</th>\n",
              "      <td>50000.000000</td>\n",
              "      <td>50000.000000</td>\n",
              "      <td>50000.000000</td>\n",
              "      <td>50000.000000</td>\n",
              "      <td>50000.000000</td>\n",
              "      <td>50000.000000</td>\n",
              "      <td>50000.000000</td>\n",
              "      <td>50000.000000</td>\n",
              "      <td>50000.000000</td>\n",
              "      <td>50000.000000</td>\n",
              "      <td>50000.000000</td>\n",
              "      <td>50000.000000</td>\n",
              "      <td>50000.000000</td>\n",
              "      <td>50000.000000</td>\n",
              "      <td>50000.000000</td>\n",
              "    </tr>\n",
              "    <tr>\n",
              "      <th>mean</th>\n",
              "      <td>0.266454</td>\n",
              "      <td>0.207401</td>\n",
              "      <td>0.207484</td>\n",
              "      <td>-0.491013</td>\n",
              "      <td>-0.700210</td>\n",
              "      <td>-0.294138</td>\n",
              "      <td>0.273313</td>\n",
              "      <td>0.695944</td>\n",
              "      <td>-0.030006</td>\n",
              "      <td>0.006645</td>\n",
              "      <td>0.609432</td>\n",
              "      <td>-1.110552</td>\n",
              "      <td>-0.528438</td>\n",
              "      <td>-0.511179</td>\n",
              "      <td>0.231617</td>\n",
              "    </tr>\n",
              "    <tr>\n",
              "      <th>std</th>\n",
              "      <td>2.126825</td>\n",
              "      <td>1.970479</td>\n",
              "      <td>1.874263</td>\n",
              "      <td>1.762062</td>\n",
              "      <td>1.649456</td>\n",
              "      <td>1.723327</td>\n",
              "      <td>2.050374</td>\n",
              "      <td>1.986726</td>\n",
              "      <td>4.385574</td>\n",
              "      <td>2.094178</td>\n",
              "      <td>4.066106</td>\n",
              "      <td>3.406985</td>\n",
              "      <td>2.612897</td>\n",
              "      <td>2.073009</td>\n",
              "      <td>2.525177</td>\n",
              "    </tr>\n",
              "    <tr>\n",
              "      <th>min</th>\n",
              "      <td>-8.360184</td>\n",
              "      <td>-8.791185</td>\n",
              "      <td>-7.383914</td>\n",
              "      <td>-7.692214</td>\n",
              "      <td>-7.729431</td>\n",
              "      <td>-7.750905</td>\n",
              "      <td>-8.661642</td>\n",
              "      <td>-7.848835</td>\n",
              "      <td>-23.924167</td>\n",
              "      <td>-8.678568</td>\n",
              "      <td>-17.056269</td>\n",
              "      <td>-18.299831</td>\n",
              "      <td>-13.340440</td>\n",
              "      <td>-8.971211</td>\n",
              "      <td>-12.804785</td>\n",
              "    </tr>\n",
              "    <tr>\n",
              "      <th>25%</th>\n",
              "      <td>-1.162846</td>\n",
              "      <td>-1.090813</td>\n",
              "      <td>-1.084520</td>\n",
              "      <td>-1.675401</td>\n",
              "      <td>-1.805095</td>\n",
              "      <td>-1.430182</td>\n",
              "      <td>-1.103160</td>\n",
              "      <td>-0.607170</td>\n",
              "      <td>-2.989116</td>\n",
              "      <td>-1.427887</td>\n",
              "      <td>-1.924670</td>\n",
              "      <td>-3.311911</td>\n",
              "      <td>-2.213970</td>\n",
              "      <td>-1.899357</td>\n",
              "      <td>-1.422223</td>\n",
              "    </tr>\n",
              "    <tr>\n",
              "      <th>50%</th>\n",
              "      <td>0.241495</td>\n",
              "      <td>0.235629</td>\n",
              "      <td>0.183688</td>\n",
              "      <td>-0.543458</td>\n",
              "      <td>-0.705345</td>\n",
              "      <td>-0.354602</td>\n",
              "      <td>0.275627</td>\n",
              "      <td>0.705302</td>\n",
              "      <td>0.027739</td>\n",
              "      <td>-0.018822</td>\n",
              "      <td>0.635744</td>\n",
              "      <td>-1.163694</td>\n",
              "      <td>-0.598621</td>\n",
              "      <td>-0.497557</td>\n",
              "      <td>0.196780</td>\n",
              "    </tr>\n",
              "    <tr>\n",
              "      <th>75%</th>\n",
              "      <td>1.683281</td>\n",
              "      <td>1.501122</td>\n",
              "      <td>1.461999</td>\n",
              "      <td>0.656996</td>\n",
              "      <td>0.401761</td>\n",
              "      <td>0.784513</td>\n",
              "      <td>1.660565</td>\n",
              "      <td>2.002337</td>\n",
              "      <td>2.912834</td>\n",
              "      <td>1.382269</td>\n",
              "      <td>3.155235</td>\n",
              "      <td>1.049781</td>\n",
              "      <td>1.068512</td>\n",
              "      <td>0.908975</td>\n",
              "      <td>1.822896</td>\n",
              "    </tr>\n",
              "    <tr>\n",
              "      <th>max</th>\n",
              "      <td>11.017564</td>\n",
              "      <td>8.879740</td>\n",
              "      <td>8.065992</td>\n",
              "      <td>7.255772</td>\n",
              "      <td>6.487590</td>\n",
              "      <td>7.808481</td>\n",
              "      <td>8.361272</td>\n",
              "      <td>10.323580</td>\n",
              "      <td>19.131734</td>\n",
              "      <td>10.206260</td>\n",
              "      <td>18.604384</td>\n",
              "      <td>15.941515</td>\n",
              "      <td>15.278376</td>\n",
              "      <td>7.844041</td>\n",
              "      <td>14.235675</td>\n",
              "    </tr>\n",
              "  </tbody>\n",
              "</table>\n",
              "</div>"
            ],
            "text/plain": [
              "                 0             1   ...            13            14\n",
              "count  50000.000000  50000.000000  ...  50000.000000  50000.000000\n",
              "mean       0.266454      0.207401  ...     -0.511179      0.231617\n",
              "std        2.126825      1.970479  ...      2.073009      2.525177\n",
              "min       -8.360184     -8.791185  ...     -8.971211    -12.804785\n",
              "25%       -1.162846     -1.090813  ...     -1.899357     -1.422223\n",
              "50%        0.241495      0.235629  ...     -0.497557      0.196780\n",
              "75%        1.683281      1.501122  ...      0.908975      1.822896\n",
              "max       11.017564      8.879740  ...      7.844041     14.235675\n",
              "\n",
              "[8 rows x 15 columns]"
            ]
          },
          "metadata": {
            "tags": []
          },
          "execution_count": 46
        }
      ]
    },
    {
      "cell_type": "code",
      "metadata": {
        "id": "jVdXGvtEojJf",
        "colab_type": "code",
        "outputId": "b782a381-2509-4907-9294-a4ad9cd74570",
        "colab": {
          "base_uri": "https://localhost:8080/",
          "height": 34
        }
      },
      "source": [
        "len([i for i in y if i == 1])/len(y)"
      ],
      "execution_count": 47,
      "outputs": [
        {
          "output_type": "execute_result",
          "data": {
            "text/plain": [
              "0.30192"
            ]
          },
          "metadata": {
            "tags": []
          },
          "execution_count": 47
        }
      ]
    },
    {
      "cell_type": "code",
      "metadata": {
        "id": "Fpz8X5DMSvn2",
        "colab_type": "code",
        "colab": {}
      },
      "source": [
        "#reshaping y and weight vector for compatibilty\n",
        "# adding a 0 at the first position of w as the intial intercept for weight vector. this means w[0] is our intercept\n",
        "# adding a column of 1s to X. This will work as the compatibility term for our intercept.\n",
        "# now our eq is from y = w.T*X + b to y = w.T*X . \n",
        "# this concept has been taken from Andrew Ng's machine learning course\n",
        "\n",
        "y = y.reshape(-1,1)\n",
        "\n",
        "#X = np.hstack((np.ones_like(X[:,0]).reshape(-1,1),X))\n",
        "w = np.zeros_like(X[0]).reshape(-1,1)\n",
        "\n",
        "np.random.seed(0)\n",
        "W = np.random.uniform(0,1,size=(X.shape[1],1))\n",
        "b=0.5\n",
        "\n",
        "eta0  = 0.0001 # learning rate\n",
        "alpha = 0.0001 # regularizing term i.e. lambda\n",
        "N = len(y)"
      ],
      "execution_count": 0,
      "outputs": []
    },
    {
      "cell_type": "code",
      "metadata": {
        "colab_type": "code",
        "id": "OAiKtwDXXCl9",
        "colab": {}
      },
      "source": [
        "#Splitting X,y into train and test set\n",
        "X_train, X_test, y_train, y_test = train_test_split(X, y, test_size=0.25, random_state=15)"
      ],
      "execution_count": 0,
      "outputs": []
    },
    {
      "cell_type": "code",
      "metadata": {
        "id": "Gaom9khshRRa",
        "colab_type": "code",
        "outputId": "8e77e853-9fab-4672-eabe-edf25ed1f866",
        "colab": {
          "base_uri": "https://localhost:8080/",
          "height": 68
        }
      },
      "source": [
        "print(X[0,:])"
      ],
      "execution_count": 50,
      "outputs": [
        {
          "output_type": "stream",
          "text": [
            "[ 1.17133535 -1.00849691  0.40726112 -2.05334509 -1.37381592 -2.99724545\n",
            "  0.7787227   0.87207405 -2.17362041  1.22938588  0.21266735 -2.21599818\n",
            " -1.8801447  -0.61688062 -0.68442615]\n"
          ],
          "name": "stdout"
        }
      ]
    },
    {
      "cell_type": "markdown",
      "metadata": {
        "id": "QWeke9uYsunj",
        "colab_type": "text"
      },
      "source": [
        "* All the value of weight vector have been initialized to 0."
      ]
    },
    {
      "cell_type": "code",
      "metadata": {
        "id": "3PiQrZfNXLaO",
        "colab_type": "code",
        "outputId": "e62f5506-f120-4efb-9994-94b9fe4d1265",
        "colab": {
          "base_uri": "https://localhost:8080/",
          "height": 68
        }
      },
      "source": [
        "print(w.shape)\n",
        "print(X.shape)\n",
        "print(y.shape)"
      ],
      "execution_count": 51,
      "outputs": [
        {
          "output_type": "stream",
          "text": [
            "(15, 1)\n",
            "(50000, 15)\n",
            "(50000, 1)\n"
          ],
          "name": "stdout"
        }
      ]
    },
    {
      "cell_type": "code",
      "metadata": {
        "id": "mH7jfIQ_9OEQ",
        "colab_type": "code",
        "colab": {}
      },
      "source": [
        "# Definition of sigmoid function used in Logistic Regression\n",
        "def sigmoid(X):\n",
        "   return 1/(1+np.exp(-X))"
      ],
      "execution_count": 0,
      "outputs": []
    },
    {
      "cell_type": "code",
      "metadata": {
        "id": "UzmEy3mDgU_c",
        "colab_type": "code",
        "colab": {}
      },
      "source": [
        "#the below function provides the probabilistic prediction of a datapoint in X.\n",
        "def pred(X,w,b):\n",
        "  prediction = sigmoid(np.dot(X,w)+b)\n",
        "  for i in range(len(prediction)):\n",
        "    if prediction[i] == 1.0:\n",
        "      prediction[i] = sigmoid(36)\n",
        "  # shape is m * 1\n",
        "  return(prediction)"
      ],
      "execution_count": 0,
      "outputs": []
    },
    {
      "cell_type": "code",
      "metadata": {
        "id": "Uwt_YtRlibeN",
        "colab_type": "code",
        "colab": {}
      },
      "source": [
        "# https://www.geeksforgeeks.org/multiplication-two-matrices-single-line-using-numpy-python/\n",
        "# https://ml-cheatsheet.readthedocs.io/en/latest/logistic_regression.html#training\n",
        "# Below function calculates the cost/loss of a prediction\n",
        "# alpha is the regularization multiplyer here. i.e. lambda\n",
        "def cost_func(X,y,w,lamda,b):\n",
        "  y = y.reshape(-1,1)\n",
        "  #cost =  sum(np.log(1-np.exp(-y*(np.dot(X,w)))))\n",
        "  cost = (np.sum(-y*np.log(pred(X,w,b)) - (1-y)*np.log(1-pred(X,w,b))) + np.sum((lamda/2)*w**2))/len(y)\n",
        "  return cost\n"
      ],
      "execution_count": 0,
      "outputs": []
    },
    {
      "cell_type": "code",
      "metadata": {
        "id": "Mtnh1V658t82",
        "colab_type": "code",
        "outputId": "4221d23a-e39a-4f6e-b6e3-5433740e0245",
        "colab": {
          "base_uri": "https://localhost:8080/",
          "height": 34
        }
      },
      "source": [
        "train_cost_list = []\n",
        "test_cost_list = []\n",
        "train_cost_list.append(cost_func(X_train,y_train,w,alpha,b))\n",
        "print(train_cost_list) # Avg loss of training set when weight vector is 0s."
      ],
      "execution_count": 55,
      "outputs": [
        {
          "output_type": "stream",
          "text": [
            "[0.8230236508467732]\n"
          ],
          "name": "stdout"
        }
      ]
    },
    {
      "cell_type": "code",
      "metadata": {
        "id": "9mz6vMAX_HCg",
        "colab_type": "code",
        "outputId": "b1c2f311-3e14-4cb4-b0a9-48d0b43f5a4b",
        "colab": {
          "base_uri": "https://localhost:8080/",
          "height": 34
        }
      },
      "source": [
        "#for cross-checking\n",
        "from sklearn.metrics import log_loss\n",
        "\n",
        "loss = log_loss(y, pred(X,w,b))\n",
        "loss"
      ],
      "execution_count": 56,
      "outputs": [
        {
          "output_type": "execute_result",
          "data": {
            "text/plain": [
              "0.8231169841801067"
            ]
          },
          "metadata": {
            "tags": []
          },
          "execution_count": 56
        }
      ]
    },
    {
      "cell_type": "markdown",
      "metadata": {
        "id": "3eTZz0LJ_oXV",
        "colab_type": "text"
      },
      "source": [
        "$w^{(t+1)} ← (1 − \\frac{αλ}{N} )w^{(t)} + αx_n(y_n − σ((w^{(t)})^{T} x_n+b^{t}))$ <br>\n",
        "        $b^{(t+1)} ← (b^t −  α(-y_n + σ((w^{(t)})^{T} x_n+b^{t}))$ "
      ]
    },
    {
      "cell_type": "code",
      "metadata": {
        "id": "B6Y5kVscSvn5",
        "colab_type": "code",
        "colab": {}
      },
      "source": [
        "# derivative of cost function : https://math.stackexchange.com/questions/477207/derivative-of-cost-function-for-logistic-regression\n",
        "# below definition is used to optimize the lambda by subtracting its value for LR* (dJ/dw at w) .\n",
        "# lr is the learning rate at which we want our w to be optimized\n",
        "def optimized(X,y,w,lr,lamda,b):\n",
        "  # grad = y*np.log(pred(X,w)) + (1-y)*np.log(1-pred(X,w)) + alpha*np.dot(w.T,w)\n",
        "  #def_grad = (np.dot(X.T,(pred(X,w) - y)) + (lamda*2*w))/len(y)\n",
        "  #w = w - lr*def_grad\n",
        "  N = len(y)\n",
        "  #w = (1 - lr*lamda/N)*w + lr*np.dot(X.T,(y-pred(X,w,b)))\n",
        "  w = w - (lr/N)*(np.dot(X.T,(pred(X,w,b) - y)) + lamda*w)\n",
        "  b = b - lr*np.sum(pred(X,w,b) - y)/N\n",
        "  \n",
        "  return w,b"
      ],
      "execution_count": 0,
      "outputs": []
    },
    {
      "cell_type": "code",
      "metadata": {
        "id": "ODtttjBeibUk",
        "colab_type": "code",
        "outputId": "b376a85b-0f7d-47bf-c7bd-b17b1e3f0c02",
        "colab": {
          "base_uri": "https://localhost:8080/",
          "height": 663
        }
      },
      "source": [
        "# since we dont know how many iteration it will take to find the optimized w which will give us the least loss,\n",
        "# we are using while loop with a stop condition\n",
        "# condition : when the last two loss values in the train_cost_list are very very close(~0.0000001) then we can stop the loop\n",
        "# We are using the X_train to optimize the w but we are storing lossvalues of train and test set to compare them.\n",
        "from tqdm import tqdm \n",
        "\n",
        "iter_ = True\n",
        "w,b = optimized(X_train,y_train,w,0.001,alpha,b)\n",
        "train_cost_list.append(cost_func(X_train,y_train,w,alpha,b))\n",
        "test_cost_list.append(cost_func(X_test,y_test,w,alpha,b))\n",
        "iter_count = 0\n",
        "while iter_:\n",
        "  for j in range(len(X_train)):\n",
        "    w,b = optimized(X_train[j:j+1,:],y_train[j],w,0.0001,alpha,b)\n",
        "\n",
        "  #row = random.sample(range(len(X_train)),50000)\n",
        "  #xx = X_train[row,:]\n",
        "  #yy = y_train[row]\n",
        "  #w,b = optimized(xx,yy,w,0.05,alpha,b)\n",
        " \n",
        "  tr_cost = cost_func(X_train,y_train,w,alpha,b)\n",
        "  te_cost = cost_func(X_test,y_test,w,alpha,b)\n",
        "\n",
        "  train_cost_list.append(tr_cost)\n",
        "  test_cost_list.append(te_cost)\n",
        "  iter_count += 1\n",
        "  if abs(train_cost_list[-1] - train_cost_list[-2]) < 0.000001:\n",
        "    iter_ = False\n",
        "  print(train_cost_list[-1])\n",
        "  print(iter_count)"
      ],
      "execution_count": 58,
      "outputs": [
        {
          "output_type": "stream",
          "text": [
            "0.42371782703791666\n",
            "1\n",
            "0.39800627145166295\n",
            "2\n",
            "0.38806777159040995\n",
            "3\n",
            "0.38336660845647674\n",
            "4\n",
            "0.38098372727892515\n",
            "5\n",
            "0.3797313958790109\n",
            "6\n",
            "0.3790579078899805\n",
            "7\n",
            "0.37868980842591105\n",
            "8\n",
            "0.3784861790373487\n",
            "9\n",
            "0.3783724716027518\n",
            "10\n",
            "0.37830849456722376\n",
            "11\n",
            "0.37827226783431356\n",
            "12\n",
            "0.37825163785070903\n",
            "13\n",
            "0.3782398262523533\n",
            "14\n",
            "0.3782330264297055\n",
            "15\n",
            "0.3782290885720741\n",
            "16\n",
            "0.37822679273066895\n",
            "17\n",
            "0.3782254436521609\n",
            "18\n",
            "0.3782246434867191\n",
            "19\n"
          ],
          "name": "stdout"
        }
      ]
    },
    {
      "cell_type": "code",
      "metadata": {
        "id": "8xoK88whEW18",
        "colab_type": "code",
        "outputId": "f8689ecd-0072-470b-b67e-88c7689d785b",
        "colab": {
          "base_uri": "https://localhost:8080/",
          "height": 51
        }
      },
      "source": [
        "\n",
        "print(X.shape)\n",
        "print(w.shape)\n",
        "#print(b.shape)\n"
      ],
      "execution_count": 59,
      "outputs": [
        {
          "output_type": "stream",
          "text": [
            "(50000, 15)\n",
            "(15, 1)\n"
          ],
          "name": "stdout"
        }
      ]
    },
    {
      "cell_type": "code",
      "metadata": {
        "id": "MO-1hUUgT-Fe",
        "colab_type": "code",
        "colab": {}
      },
      "source": [
        "w = np.array(w).reshape(-1,1)"
      ],
      "execution_count": 0,
      "outputs": []
    },
    {
      "cell_type": "code",
      "metadata": {
        "id": "gBkZdl1tqofj",
        "colab_type": "code",
        "outputId": "185e34be-8c52-4be0-80ea-94a0f3b3a8de",
        "colab": {
          "base_uri": "https://localhost:8080/",
          "height": 51
        }
      },
      "source": [
        "print(train_cost_list[-1])\n",
        "test_cost_list[-1]"
      ],
      "execution_count": 61,
      "outputs": [
        {
          "output_type": "stream",
          "text": [
            "0.3782246434867191\n"
          ],
          "name": "stdout"
        },
        {
          "output_type": "execute_result",
          "data": {
            "text/plain": [
              "0.3802148961624491"
            ]
          },
          "metadata": {
            "tags": []
          },
          "execution_count": 61
        }
      ]
    },
    {
      "cell_type": "code",
      "metadata": {
        "id": "1YZoykX0Vu7Y",
        "colab_type": "code",
        "outputId": "453ea7a2-5d0f-4b10-867e-f85e20235a10",
        "colab": {
          "base_uri": "https://localhost:8080/",
          "height": 295
        }
      },
      "source": [
        "# plotting train and test loss\n",
        "\n",
        "plt.plot(train_cost_list,label = 'Train Loss')\n",
        "plt.plot(test_cost_list,label = 'Test Loss')\n",
        "\n",
        "plt.legend()\n",
        "plt.xlabel(\"Epoch Number\")\n",
        "plt.ylabel(\"Loss\")\n",
        "\n",
        "plt.title(\"Train Loss Vs Test Loss\")\n",
        "plt.grid()\n",
        "plt.show()\n"
      ],
      "execution_count": 62,
      "outputs": [
        {
          "output_type": "display_data",
          "data": {
            "image/png": "[encoded data removed]",
            "text/plain": [
              "<Figure size 432x288 with 1 Axes>"
            ]
          },
          "metadata": {
            "tags": []
          }
        }
      ]
    },
    {
      "cell_type": "code",
      "metadata": {
        "id": "xkT1KBJuLXhz",
        "colab_type": "code",
        "outputId": "a7989af1-d625-42dd-c4df-fe548bcaf576",
        "colab": {
          "base_uri": "https://localhost:8080/",
          "height": 306
        }
      },
      "source": [
        "# the optimized weight vector and the intercept\n",
        "print('best weight : \\n',w)\n",
        "print('best intercept :',b)\n"
      ],
      "execution_count": 63,
      "outputs": [
        {
          "output_type": "stream",
          "text": [
            "best weight : \n",
            " [[-4.28773996e-01]\n",
            " [ 1.92691533e-01]\n",
            " [-1.48022081e-01]\n",
            " [ 3.37904475e-01]\n",
            " [-2.20005537e-01]\n",
            " [ 5.69066368e-01]\n",
            " [-4.45018751e-01]\n",
            " [-9.00689817e-02]\n",
            " [ 2.21265720e-01]\n",
            " [ 1.73205339e-01]\n",
            " [ 1.98217723e-01]\n",
            " [-2.51693428e-04]\n",
            " [-8.08605278e-02]\n",
            " [ 3.38885755e-01]\n",
            " [ 2.28994749e-02]]\n",
            "best intercept : -0.8871356130232607\n"
          ],
          "name": "stdout"
        }
      ]
    },
    {
      "cell_type": "code",
      "metadata": {
        "scrolled": true,
        "id": "Yy8jWaa7Svn_",
        "colab_type": "code",
        "outputId": "de69adb4-b90f-45f5-906e-8d796a347c4d",
        "colab": {
          "base_uri": "https://localhost:8080/",
          "height": 102
        }
      },
      "source": [
        "# these are the results we got after we implemented sgd and found the optimal weights and intercept\n",
        "clf.coef_, clf.coef_.shape, clf.intercept_"
      ],
      "execution_count": 64,
      "outputs": [
        {
          "output_type": "execute_result",
          "data": {
            "text/plain": [
              "(array([[-0.42336692,  0.18547565, -0.14859036,  0.34144407, -0.2081867 ,\n",
              "          0.56016579, -0.45242483, -0.09408813,  0.2092732 ,  0.18084126,\n",
              "          0.19705191,  0.00421916, -0.0796037 ,  0.33852802,  0.02266721]]),\n",
              " (1, 15),\n",
              " array([-0.8531383]))"
            ]
          },
          "metadata": {
            "tags": []
          },
          "execution_count": 64
        }
      ]
    },
    {
      "cell_type": "code",
      "metadata": {
        "id": "48gx6wQKSvoE",
        "colab_type": "code",
        "outputId": "9e64422b-d40e-4788-e522-db6312c7be20",
        "colab": {
          "base_uri": "https://localhost:8080/",
          "height": 51
        }
      },
      "source": [
        "# Avg Accuracy of our prediction\n",
        "def pred_(w, X):\n",
        "    N = len(X)\n",
        "    predict = []\n",
        "    for i in range(N):\n",
        "        if pred(X[i],w,b) >= 0.5: # sigmoid(w,x,b) returns 1/(1+exp(-(dot(x,w)+b)))\n",
        "            predict.append(1)\n",
        "        else:\n",
        "            predict.append(0)\n",
        "    return np.array(predict).reshape(-1,1)\n",
        "print(1-np.sum(y_train - pred_(w,X_train))/len(X_train))\n",
        "print(1-np.sum(y_test  - pred_(w,X_test))/len(X_test))"
      ],
      "execution_count": 65,
      "outputs": [
        {
          "output_type": "stream",
          "text": [
            "0.95264\n",
            "0.95032\n"
          ],
          "name": "stdout"
        }
      ]
    }
  ]
}
